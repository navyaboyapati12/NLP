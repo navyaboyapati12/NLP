{
 "cells": [
  {
   "cell_type": "code",
   "execution_count": 1,
   "id": "f3b7836a",
   "metadata": {},
   "outputs": [
    {
     "name": "stdout",
     "output_type": "stream",
     "text": [
      "Requirement already satisfied: gTTS in c:\\users\\pavan\\anaconda3\\lib\\site-packages (2.3.2)\n",
      "Requirement already satisfied: click<8.2,>=7.1 in c:\\users\\pavan\\anaconda3\\lib\\site-packages (from gTTS) (8.0.4)\n",
      "Requirement already satisfied: requests<3,>=2.27 in c:\\users\\pavan\\anaconda3\\lib\\site-packages (from gTTS) (2.28.1)\n",
      "Requirement already satisfied: colorama in c:\\users\\pavan\\anaconda3\\lib\\site-packages (from click<8.2,>=7.1->gTTS) (0.4.6)\n",
      "Requirement already satisfied: certifi>=2017.4.17 in c:\\users\\pavan\\anaconda3\\lib\\site-packages (from requests<3,>=2.27->gTTS) (2022.9.14)\n",
      "Requirement already satisfied: idna<4,>=2.5 in c:\\users\\pavan\\anaconda3\\lib\\site-packages (from requests<3,>=2.27->gTTS) (3.3)\n",
      "Requirement already satisfied: charset-normalizer<3,>=2 in c:\\users\\pavan\\anaconda3\\lib\\site-packages (from requests<3,>=2.27->gTTS) (2.0.4)\n",
      "Requirement already satisfied: urllib3<1.27,>=1.21.1 in c:\\users\\pavan\\anaconda3\\lib\\site-packages (from requests<3,>=2.27->gTTS) (1.26.11)\n"
     ]
    }
   ],
   "source": [
    "!pip install gTTS"
   ]
  },
  {
   "cell_type": "code",
   "execution_count": 2,
   "id": "95971522",
   "metadata": {},
   "outputs": [
    {
     "name": "stdout",
     "output_type": "stream",
     "text": [
      "Requirement already satisfied: nltk in c:\\users\\pavan\\anaconda3\\lib\\site-packages (3.7)\n",
      "Requirement already satisfied: click in c:\\users\\pavan\\anaconda3\\lib\\site-packages (from nltk) (8.0.4)\n",
      "Requirement already satisfied: regex>=2021.8.3 in c:\\users\\pavan\\anaconda3\\lib\\site-packages (from nltk) (2022.7.9)\n",
      "Requirement already satisfied: joblib in c:\\users\\pavan\\anaconda3\\lib\\site-packages (from nltk) (1.1.0)\n",
      "Requirement already satisfied: tqdm in c:\\users\\pavan\\anaconda3\\lib\\site-packages (from nltk) (4.64.1)\n",
      "Requirement already satisfied: colorama in c:\\users\\pavan\\anaconda3\\lib\\site-packages (from click->nltk) (0.4.6)\n"
     ]
    }
   ],
   "source": [
    "!pip install nltk"
   ]
  },
  {
   "cell_type": "code",
   "execution_count": 3,
   "id": "16971aaa",
   "metadata": {},
   "outputs": [
    {
     "name": "stderr",
     "output_type": "stream",
     "text": [
      "[nltk_data] Downloading package punkt to\n",
      "[nltk_data]     C:\\Users\\Pavan\\AppData\\Roaming\\nltk_data...\n",
      "[nltk_data]   Package punkt is already up-to-date!\n"
     ]
    },
    {
     "data": {
      "text/plain": [
       "0"
      ]
     },
     "execution_count": 3,
     "metadata": {},
     "output_type": "execute_result"
    }
   ],
   "source": [
    "import nltk\n",
    "nltk.download('punkt')\n",
    "from gtts import gTTS\n",
    "import os\n",
    "test = \"Hi how are you, what are you doing right now, how was the whether outside\"\n",
    "language = \"en\"\n",
    "myobj = gTTS(text=test,lang=language,slow= False)\n",
    "myobj.save(\"read_article2.mp3\")\n",
    "os.system(\"start read_article2.mp3\")"
   ]
  },
  {
   "cell_type": "code",
   "execution_count": 4,
   "id": "e1a2ecdb",
   "metadata": {},
   "outputs": [
    {
     "name": "stdout",
     "output_type": "stream",
     "text": [
      "Requirement already satisfied: newspaper4k in c:\\users\\pavan\\anaconda3\\lib\\site-packages (0.9.3.1)\n",
      "Requirement already satisfied: python-dateutil>=2.6.1 in c:\\users\\pavan\\anaconda3\\lib\\site-packages (from newspaper4k) (2.8.2)\n",
      "Requirement already satisfied: feedparser>=6.0.0 in c:\\users\\pavan\\anaconda3\\lib\\site-packages (from newspaper4k) (6.0.11)\n",
      "Requirement already satisfied: numpy<2.0,>=1.24 in c:\\users\\pavan\\anaconda3\\lib\\site-packages (from newspaper4k) (1.24.3)\n",
      "Requirement already satisfied: beautifulsoup4>=4.9.3 in c:\\users\\pavan\\anaconda3\\lib\\site-packages (from newspaper4k) (4.11.1)\n",
      "Requirement already satisfied: tldextract>=2.0.1 in c:\\users\\pavan\\anaconda3\\lib\\site-packages (from newspaper4k) (3.2.0)\n",
      "Requirement already satisfied: nltk>=3.6.6 in c:\\users\\pavan\\anaconda3\\lib\\site-packages (from newspaper4k) (3.7)\n",
      "Requirement already satisfied: lxml>=4.2.0 in c:\\users\\pavan\\anaconda3\\lib\\site-packages (from newspaper4k) (4.9.1)\n",
      "Requirement already satisfied: pandas>=1.4 in c:\\users\\pavan\\anaconda3\\lib\\site-packages (from newspaper4k) (1.4.4)\n",
      "Requirement already satisfied: Pillow>=4.0.0 in c:\\users\\pavan\\anaconda3\\lib\\site-packages (from newspaper4k) (9.2.0)\n",
      "Requirement already satisfied: requests>=2.26.0 in c:\\users\\pavan\\anaconda3\\lib\\site-packages (from newspaper4k) (2.28.1)\n",
      "Requirement already satisfied: PyYAML>=5.1 in c:\\users\\pavan\\anaconda3\\lib\\site-packages (from newspaper4k) (6.0)\n",
      "Requirement already satisfied: soupsieve>1.2 in c:\\users\\pavan\\anaconda3\\lib\\site-packages (from beautifulsoup4>=4.9.3->newspaper4k) (2.3.1)\n",
      "Requirement already satisfied: sgmllib3k in c:\\users\\pavan\\anaconda3\\lib\\site-packages (from feedparser>=6.0.0->newspaper4k) (1.0.0)\n",
      "Requirement already satisfied: regex>=2021.8.3 in c:\\users\\pavan\\anaconda3\\lib\\site-packages (from nltk>=3.6.6->newspaper4k) (2022.7.9)\n",
      "Requirement already satisfied: click in c:\\users\\pavan\\anaconda3\\lib\\site-packages (from nltk>=3.6.6->newspaper4k) (8.0.4)\n",
      "Requirement already satisfied: joblib in c:\\users\\pavan\\anaconda3\\lib\\site-packages (from nltk>=3.6.6->newspaper4k) (1.1.0)\n",
      "Requirement already satisfied: tqdm in c:\\users\\pavan\\anaconda3\\lib\\site-packages (from nltk>=3.6.6->newspaper4k) (4.64.1)\n",
      "Requirement already satisfied: pytz>=2020.1 in c:\\users\\pavan\\anaconda3\\lib\\site-packages (from pandas>=1.4->newspaper4k) (2022.1)\n",
      "Requirement already satisfied: six>=1.5 in c:\\users\\pavan\\anaconda3\\lib\\site-packages (from python-dateutil>=2.6.1->newspaper4k) (1.16.0)\n",
      "Requirement already satisfied: certifi>=2017.4.17 in c:\\users\\pavan\\anaconda3\\lib\\site-packages (from requests>=2.26.0->newspaper4k) (2022.9.14)\n",
      "Requirement already satisfied: charset-normalizer<3,>=2 in c:\\users\\pavan\\anaconda3\\lib\\site-packages (from requests>=2.26.0->newspaper4k) (2.0.4)\n",
      "Requirement already satisfied: idna<4,>=2.5 in c:\\users\\pavan\\anaconda3\\lib\\site-packages (from requests>=2.26.0->newspaper4k) (3.3)\n",
      "Requirement already satisfied: urllib3<1.27,>=1.21.1 in c:\\users\\pavan\\anaconda3\\lib\\site-packages (from requests>=2.26.0->newspaper4k) (1.26.11)\n",
      "Requirement already satisfied: requests-file>=1.4 in c:\\users\\pavan\\anaconda3\\lib\\site-packages (from tldextract>=2.0.1->newspaper4k) (1.5.1)\n",
      "Requirement already satisfied: filelock>=3.0.8 in c:\\users\\pavan\\anaconda3\\lib\\site-packages (from tldextract>=2.0.1->newspaper4k) (3.6.0)\n",
      "Requirement already satisfied: colorama in c:\\users\\pavan\\anaconda3\\lib\\site-packages (from click->nltk>=3.6.6->newspaper4k) (0.4.6)\n"
     ]
    }
   ],
   "source": [
    "!pip install newspaper4k"
   ]
  },
  {
   "cell_type": "code",
   "execution_count": 7,
   "id": "abece2ef",
   "metadata": {},
   "outputs": [
    {
     "name": "stdout",
     "output_type": "stream",
     "text": [
      "Collecting indic-nlp-library\n",
      "  Downloading indic_nlp_library-0.92-py3-none-any.whl (40 kB)\n",
      "     -------------------------------------- 40.3/40.3 kB 484.2 kB/s eta 0:00:00\n",
      "Collecting sphinx-argparse\n",
      "  Downloading sphinx_argparse-0.4.0-py3-none-any.whl (12 kB)\n",
      "Requirement already satisfied: pandas in c:\\users\\pavan\\anaconda3\\lib\\site-packages (from indic-nlp-library) (1.4.4)\n",
      "Collecting sphinx-rtd-theme\n",
      "  Downloading sphinx_rtd_theme-2.0.0-py2.py3-none-any.whl (2.8 MB)\n",
      "     ---------------------------------------- 2.8/2.8 MB 2.3 MB/s eta 0:00:00\n",
      "Requirement already satisfied: numpy in c:\\users\\pavan\\anaconda3\\lib\\site-packages (from indic-nlp-library) (1.24.3)\n",
      "Collecting morfessor\n",
      "  Downloading Morfessor-2.0.6-py3-none-any.whl (35 kB)\n",
      "Requirement already satisfied: python-dateutil>=2.8.1 in c:\\users\\pavan\\anaconda3\\lib\\site-packages (from pandas->indic-nlp-library) (2.8.2)\n",
      "Requirement already satisfied: pytz>=2020.1 in c:\\users\\pavan\\anaconda3\\lib\\site-packages (from pandas->indic-nlp-library) (2022.1)\n",
      "Requirement already satisfied: sphinx>=1.2.0 in c:\\users\\pavan\\anaconda3\\lib\\site-packages (from sphinx-argparse->indic-nlp-library) (5.0.2)\n",
      "Requirement already satisfied: docutils<0.21 in c:\\users\\pavan\\anaconda3\\lib\\site-packages (from sphinx-rtd-theme->indic-nlp-library) (0.18.1)\n",
      "Collecting sphinxcontrib-jquery<5,>=4\n",
      "  Downloading sphinxcontrib_jquery-4.1-py2.py3-none-any.whl (121 kB)\n",
      "     -------------------------------------- 121.1/121.1 kB 3.5 MB/s eta 0:00:00\n",
      "Requirement already satisfied: six>=1.5 in c:\\users\\pavan\\anaconda3\\lib\\site-packages (from python-dateutil>=2.8.1->pandas->indic-nlp-library) (1.16.0)\n",
      "Requirement already satisfied: Jinja2>=2.3 in c:\\users\\pavan\\anaconda3\\lib\\site-packages (from sphinx>=1.2.0->sphinx-argparse->indic-nlp-library) (2.11.3)\n",
      "Requirement already satisfied: Pygments>=2.0 in c:\\users\\pavan\\anaconda3\\lib\\site-packages (from sphinx>=1.2.0->sphinx-argparse->indic-nlp-library) (2.11.2)\n",
      "Requirement already satisfied: alabaster<0.8,>=0.7 in c:\\users\\pavan\\anaconda3\\lib\\site-packages (from sphinx>=1.2.0->sphinx-argparse->indic-nlp-library) (0.7.12)\n",
      "Requirement already satisfied: imagesize in c:\\users\\pavan\\anaconda3\\lib\\site-packages (from sphinx>=1.2.0->sphinx-argparse->indic-nlp-library) (1.4.1)\n",
      "Requirement already satisfied: sphinxcontrib-serializinghtml>=1.1.5 in c:\\users\\pavan\\anaconda3\\lib\\site-packages (from sphinx>=1.2.0->sphinx-argparse->indic-nlp-library) (1.1.5)\n",
      "Requirement already satisfied: requests>=2.5.0 in c:\\users\\pavan\\anaconda3\\lib\\site-packages (from sphinx>=1.2.0->sphinx-argparse->indic-nlp-library) (2.28.1)\n",
      "Requirement already satisfied: sphinxcontrib-applehelp in c:\\users\\pavan\\anaconda3\\lib\\site-packages (from sphinx>=1.2.0->sphinx-argparse->indic-nlp-library) (1.0.2)\n",
      "Requirement already satisfied: importlib-metadata>=4.4 in c:\\users\\pavan\\anaconda3\\lib\\site-packages (from sphinx>=1.2.0->sphinx-argparse->indic-nlp-library) (4.11.3)\n",
      "Requirement already satisfied: sphinxcontrib-htmlhelp>=2.0.0 in c:\\users\\pavan\\anaconda3\\lib\\site-packages (from sphinx>=1.2.0->sphinx-argparse->indic-nlp-library) (2.0.0)\n",
      "Requirement already satisfied: sphinxcontrib-devhelp in c:\\users\\pavan\\anaconda3\\lib\\site-packages (from sphinx>=1.2.0->sphinx-argparse->indic-nlp-library) (1.0.2)\n",
      "Requirement already satisfied: sphinxcontrib-qthelp in c:\\users\\pavan\\anaconda3\\lib\\site-packages (from sphinx>=1.2.0->sphinx-argparse->indic-nlp-library) (1.0.3)\n",
      "Requirement already satisfied: sphinxcontrib-jsmath in c:\\users\\pavan\\anaconda3\\lib\\site-packages (from sphinx>=1.2.0->sphinx-argparse->indic-nlp-library) (1.0.1)\n",
      "Requirement already satisfied: packaging in c:\\users\\pavan\\anaconda3\\lib\\site-packages (from sphinx>=1.2.0->sphinx-argparse->indic-nlp-library) (23.0)\n",
      "Requirement already satisfied: colorama>=0.3.5 in c:\\users\\pavan\\anaconda3\\lib\\site-packages (from sphinx>=1.2.0->sphinx-argparse->indic-nlp-library) (0.4.6)\n",
      "Requirement already satisfied: snowballstemmer>=1.1 in c:\\users\\pavan\\anaconda3\\lib\\site-packages (from sphinx>=1.2.0->sphinx-argparse->indic-nlp-library) (2.2.0)\n",
      "Requirement already satisfied: babel>=1.3 in c:\\users\\pavan\\anaconda3\\lib\\site-packages (from sphinx>=1.2.0->sphinx-argparse->indic-nlp-library) (2.9.1)\n",
      "Requirement already satisfied: zipp>=0.5 in c:\\users\\pavan\\anaconda3\\lib\\site-packages (from importlib-metadata>=4.4->sphinx>=1.2.0->sphinx-argparse->indic-nlp-library) (3.8.0)\n",
      "Requirement already satisfied: MarkupSafe>=0.23 in c:\\users\\pavan\\anaconda3\\lib\\site-packages (from Jinja2>=2.3->sphinx>=1.2.0->sphinx-argparse->indic-nlp-library) (2.0.1)\n",
      "Requirement already satisfied: urllib3<1.27,>=1.21.1 in c:\\users\\pavan\\anaconda3\\lib\\site-packages (from requests>=2.5.0->sphinx>=1.2.0->sphinx-argparse->indic-nlp-library) (1.26.11)\n",
      "Requirement already satisfied: certifi>=2017.4.17 in c:\\users\\pavan\\anaconda3\\lib\\site-packages (from requests>=2.5.0->sphinx>=1.2.0->sphinx-argparse->indic-nlp-library) (2022.9.14)\n",
      "Requirement already satisfied: idna<4,>=2.5 in c:\\users\\pavan\\anaconda3\\lib\\site-packages (from requests>=2.5.0->sphinx>=1.2.0->sphinx-argparse->indic-nlp-library) (3.3)\n",
      "Requirement already satisfied: charset-normalizer<3,>=2 in c:\\users\\pavan\\anaconda3\\lib\\site-packages (from requests>=2.5.0->sphinx>=1.2.0->sphinx-argparse->indic-nlp-library) (2.0.4)\n",
      "Installing collected packages: morfessor, sphinxcontrib-jquery, sphinx-argparse, sphinx-rtd-theme, indic-nlp-library\n",
      "Successfully installed indic-nlp-library-0.92 morfessor-2.0.6 sphinx-argparse-0.4.0 sphinx-rtd-theme-2.0.0 sphinxcontrib-jquery-4.1\n"
     ]
    }
   ],
   "source": [
    "!pip install indic-nlp-library"
   ]
  },
  {
   "cell_type": "code",
   "execution_count": 8,
   "id": "6ec24131",
   "metadata": {},
   "outputs": [
    {
     "name": "stdout",
     "output_type": "stream",
     "text": [
      "Requirement already satisfied: newspaper4k[all] in c:\\users\\pavan\\anaconda3\\lib\\site-packages (0.9.3.1)\n",
      "Requirement already satisfied: beautifulsoup4>=4.9.3 in c:\\users\\pavan\\anaconda3\\lib\\site-packages (from newspaper4k[all]) (4.11.1)\n",
      "Requirement already satisfied: nltk>=3.6.6 in c:\\users\\pavan\\anaconda3\\lib\\site-packages (from newspaper4k[all]) (3.7)\n",
      "Requirement already satisfied: lxml>=4.2.0 in c:\\users\\pavan\\anaconda3\\lib\\site-packages (from newspaper4k[all]) (4.9.1)\n",
      "Requirement already satisfied: Pillow>=4.0.0 in c:\\users\\pavan\\anaconda3\\lib\\site-packages (from newspaper4k[all]) (9.2.0)\n",
      "Requirement already satisfied: python-dateutil>=2.6.1 in c:\\users\\pavan\\anaconda3\\lib\\site-packages (from newspaper4k[all]) (2.8.2)\n",
      "Requirement already satisfied: tldextract>=2.0.1 in c:\\users\\pavan\\anaconda3\\lib\\site-packages (from newspaper4k[all]) (3.2.0)\n",
      "Requirement already satisfied: feedparser>=6.0.0 in c:\\users\\pavan\\anaconda3\\lib\\site-packages (from newspaper4k[all]) (6.0.11)\n",
      "Requirement already satisfied: pandas>=1.4 in c:\\users\\pavan\\anaconda3\\lib\\site-packages (from newspaper4k[all]) (1.4.4)\n",
      "Requirement already satisfied: numpy<2.0,>=1.24 in c:\\users\\pavan\\anaconda3\\lib\\site-packages (from newspaper4k[all]) (1.24.3)\n",
      "Requirement already satisfied: PyYAML>=5.1 in c:\\users\\pavan\\anaconda3\\lib\\site-packages (from newspaper4k[all]) (6.0)\n",
      "Requirement already satisfied: requests>=2.26.0 in c:\\users\\pavan\\anaconda3\\lib\\site-packages (from newspaper4k[all]) (2.28.1)\n",
      "Collecting cloudscraper>=1.2.0\n",
      "  Downloading cloudscraper-1.2.71-py2.py3-none-any.whl (99 kB)\n",
      "     -------------------------------------- 99.7/99.7 kB 715.3 kB/s eta 0:00:00\n",
      "Collecting jieba>=0.42.1\n",
      "  Downloading jieba-0.42.1.tar.gz (19.2 MB)\n",
      "     ---------------------------------------- 19.2/19.2 MB 2.5 MB/s eta 0:00:00\n",
      "  Preparing metadata (setup.py): started\n",
      "  Preparing metadata (setup.py): finished with status 'done'\n",
      "Collecting pythainlp>=2.3.2\n",
      "  Downloading pythainlp-5.0.4-py3-none-any.whl (17.9 MB)\n",
      "     ---------------------------------------- 17.9/17.9 MB 2.6 MB/s eta 0:00:00\n",
      "Collecting gnews>=0.3.6\n",
      "  Downloading gnews-0.3.7-py3-none-any.whl (15 kB)\n",
      "Requirement already satisfied: indic-nlp-library>=0.90 in c:\\users\\pavan\\anaconda3\\lib\\site-packages (from newspaper4k[all]) (0.92)\n",
      "Collecting tinysegmenter>=0.4\n",
      "  Downloading tinysegmenter-0.4.tar.gz (16 kB)\n",
      "  Preparing metadata (setup.py): started\n",
      "  Preparing metadata (setup.py): finished with status 'done'\n",
      "Requirement already satisfied: soupsieve>1.2 in c:\\users\\pavan\\anaconda3\\lib\\site-packages (from beautifulsoup4>=4.9.3->newspaper4k[all]) (2.3.1)\n",
      "Collecting requests-toolbelt>=0.9.1\n",
      "  Downloading requests_toolbelt-1.0.0-py2.py3-none-any.whl (54 kB)\n",
      "     ---------------------------------------- 54.5/54.5 kB 1.4 MB/s eta 0:00:00\n",
      "Requirement already satisfied: pyparsing>=2.4.7 in c:\\users\\pavan\\anaconda3\\lib\\site-packages (from cloudscraper>=1.2.0->newspaper4k[all]) (3.0.9)\n",
      "Requirement already satisfied: sgmllib3k in c:\\users\\pavan\\anaconda3\\lib\\site-packages (from feedparser>=6.0.0->newspaper4k[all]) (1.0.0)\n",
      "Collecting dnspython~=1.16.0\n",
      "  Downloading dnspython-1.16.0-py2.py3-none-any.whl (188 kB)\n",
      "     -------------------------------------- 188.4/188.4 kB 1.9 MB/s eta 0:00:00\n",
      "Requirement already satisfied: sphinx-argparse in c:\\users\\pavan\\anaconda3\\lib\\site-packages (from indic-nlp-library>=0.90->newspaper4k[all]) (0.4.0)\n",
      "Requirement already satisfied: sphinx-rtd-theme in c:\\users\\pavan\\anaconda3\\lib\\site-packages (from indic-nlp-library>=0.90->newspaper4k[all]) (2.0.0)\n",
      "Requirement already satisfied: morfessor in c:\\users\\pavan\\anaconda3\\lib\\site-packages (from indic-nlp-library>=0.90->newspaper4k[all]) (2.0.6)\n",
      "Requirement already satisfied: tqdm in c:\\users\\pavan\\anaconda3\\lib\\site-packages (from nltk>=3.6.6->newspaper4k[all]) (4.64.1)\n",
      "Requirement already satisfied: joblib in c:\\users\\pavan\\anaconda3\\lib\\site-packages (from nltk>=3.6.6->newspaper4k[all]) (1.1.0)\n",
      "Requirement already satisfied: regex>=2021.8.3 in c:\\users\\pavan\\anaconda3\\lib\\site-packages (from nltk>=3.6.6->newspaper4k[all]) (2022.7.9)\n",
      "Requirement already satisfied: click in c:\\users\\pavan\\anaconda3\\lib\\site-packages (from nltk>=3.6.6->newspaper4k[all]) (8.0.4)\n",
      "Requirement already satisfied: pytz>=2020.1 in c:\\users\\pavan\\anaconda3\\lib\\site-packages (from pandas>=1.4->newspaper4k[all]) (2022.1)\n",
      "Requirement already satisfied: tzdata in c:\\users\\pavan\\anaconda3\\lib\\site-packages (from pythainlp>=2.3.2->newspaper4k[all]) (2022.7)\n",
      "Requirement already satisfied: six>=1.5 in c:\\users\\pavan\\anaconda3\\lib\\site-packages (from python-dateutil>=2.6.1->newspaper4k[all]) (1.16.0)\n",
      "Requirement already satisfied: charset-normalizer<3,>=2 in c:\\users\\pavan\\anaconda3\\lib\\site-packages (from requests>=2.26.0->newspaper4k[all]) (2.0.4)\n",
      "Requirement already satisfied: certifi>=2017.4.17 in c:\\users\\pavan\\anaconda3\\lib\\site-packages (from requests>=2.26.0->newspaper4k[all]) (2022.9.14)\n",
      "Requirement already satisfied: idna<4,>=2.5 in c:\\users\\pavan\\anaconda3\\lib\\site-packages (from requests>=2.26.0->newspaper4k[all]) (3.3)\n",
      "Requirement already satisfied: urllib3<1.27,>=1.21.1 in c:\\users\\pavan\\anaconda3\\lib\\site-packages (from requests>=2.26.0->newspaper4k[all]) (1.26.11)\n",
      "Requirement already satisfied: requests-file>=1.4 in c:\\users\\pavan\\anaconda3\\lib\\site-packages (from tldextract>=2.0.1->newspaper4k[all]) (1.5.1)\n",
      "Requirement already satisfied: filelock>=3.0.8 in c:\\users\\pavan\\anaconda3\\lib\\site-packages (from tldextract>=2.0.1->newspaper4k[all]) (3.6.0)\n",
      "Requirement already satisfied: colorama in c:\\users\\pavan\\anaconda3\\lib\\site-packages (from click->nltk>=3.6.6->newspaper4k[all]) (0.4.6)\n",
      "Requirement already satisfied: sphinx>=1.2.0 in c:\\users\\pavan\\anaconda3\\lib\\site-packages (from sphinx-argparse->indic-nlp-library>=0.90->newspaper4k[all]) (5.0.2)\n",
      "Requirement already satisfied: sphinxcontrib-jquery<5,>=4 in c:\\users\\pavan\\anaconda3\\lib\\site-packages (from sphinx-rtd-theme->indic-nlp-library>=0.90->newspaper4k[all]) (4.1)\n",
      "Requirement already satisfied: docutils<0.21 in c:\\users\\pavan\\anaconda3\\lib\\site-packages (from sphinx-rtd-theme->indic-nlp-library>=0.90->newspaper4k[all]) (0.18.1)\n",
      "Requirement already satisfied: packaging in c:\\users\\pavan\\anaconda3\\lib\\site-packages (from sphinx>=1.2.0->sphinx-argparse->indic-nlp-library>=0.90->newspaper4k[all]) (23.0)\n",
      "Requirement already satisfied: imagesize in c:\\users\\pavan\\anaconda3\\lib\\site-packages (from sphinx>=1.2.0->sphinx-argparse->indic-nlp-library>=0.90->newspaper4k[all]) (1.4.1)\n",
      "Requirement already satisfied: alabaster<0.8,>=0.7 in c:\\users\\pavan\\anaconda3\\lib\\site-packages (from sphinx>=1.2.0->sphinx-argparse->indic-nlp-library>=0.90->newspaper4k[all]) (0.7.12)\n",
      "Requirement already satisfied: Pygments>=2.0 in c:\\users\\pavan\\anaconda3\\lib\\site-packages (from sphinx>=1.2.0->sphinx-argparse->indic-nlp-library>=0.90->newspaper4k[all]) (2.11.2)\n",
      "Requirement already satisfied: babel>=1.3 in c:\\users\\pavan\\anaconda3\\lib\\site-packages (from sphinx>=1.2.0->sphinx-argparse->indic-nlp-library>=0.90->newspaper4k[all]) (2.9.1)\n",
      "Requirement already satisfied: sphinxcontrib-serializinghtml>=1.1.5 in c:\\users\\pavan\\anaconda3\\lib\\site-packages (from sphinx>=1.2.0->sphinx-argparse->indic-nlp-library>=0.90->newspaper4k[all]) (1.1.5)\n",
      "Requirement already satisfied: snowballstemmer>=1.1 in c:\\users\\pavan\\anaconda3\\lib\\site-packages (from sphinx>=1.2.0->sphinx-argparse->indic-nlp-library>=0.90->newspaper4k[all]) (2.2.0)\n",
      "Requirement already satisfied: Jinja2>=2.3 in c:\\users\\pavan\\anaconda3\\lib\\site-packages (from sphinx>=1.2.0->sphinx-argparse->indic-nlp-library>=0.90->newspaper4k[all]) (2.11.3)\n",
      "Requirement already satisfied: importlib-metadata>=4.4 in c:\\users\\pavan\\anaconda3\\lib\\site-packages (from sphinx>=1.2.0->sphinx-argparse->indic-nlp-library>=0.90->newspaper4k[all]) (4.11.3)\n",
      "Requirement already satisfied: sphinxcontrib-applehelp in c:\\users\\pavan\\anaconda3\\lib\\site-packages (from sphinx>=1.2.0->sphinx-argparse->indic-nlp-library>=0.90->newspaper4k[all]) (1.0.2)\n",
      "Requirement already satisfied: sphinxcontrib-jsmath in c:\\users\\pavan\\anaconda3\\lib\\site-packages (from sphinx>=1.2.0->sphinx-argparse->indic-nlp-library>=0.90->newspaper4k[all]) (1.0.1)\n",
      "Requirement already satisfied: sphinxcontrib-qthelp in c:\\users\\pavan\\anaconda3\\lib\\site-packages (from sphinx>=1.2.0->sphinx-argparse->indic-nlp-library>=0.90->newspaper4k[all]) (1.0.3)\n",
      "Requirement already satisfied: sphinxcontrib-devhelp in c:\\users\\pavan\\anaconda3\\lib\\site-packages (from sphinx>=1.2.0->sphinx-argparse->indic-nlp-library>=0.90->newspaper4k[all]) (1.0.2)\n",
      "Requirement already satisfied: sphinxcontrib-htmlhelp>=2.0.0 in c:\\users\\pavan\\anaconda3\\lib\\site-packages (from sphinx>=1.2.0->sphinx-argparse->indic-nlp-library>=0.90->newspaper4k[all]) (2.0.0)\n",
      "Requirement already satisfied: zipp>=0.5 in c:\\users\\pavan\\anaconda3\\lib\\site-packages (from importlib-metadata>=4.4->sphinx>=1.2.0->sphinx-argparse->indic-nlp-library>=0.90->newspaper4k[all]) (3.8.0)\n",
      "Requirement already satisfied: MarkupSafe>=0.23 in c:\\users\\pavan\\anaconda3\\lib\\site-packages (from Jinja2>=2.3->sphinx>=1.2.0->sphinx-argparse->indic-nlp-library>=0.90->newspaper4k[all]) (2.0.1)\n",
      "Building wheels for collected packages: jieba, tinysegmenter\n",
      "  Building wheel for jieba (setup.py): started\n",
      "  Building wheel for jieba (setup.py): finished with status 'done'\n",
      "  Created wheel for jieba: filename=jieba-0.42.1-py3-none-any.whl size=19314459 sha256=575e6211bee5103dc1f07d13d206db0a56715a0b0e5283673a8dcc0cabc19fbc\n",
      "  Stored in directory: c:\\users\\pavan\\appdata\\local\\pip\\cache\\wheels\\7d\\74\\cf\\08c94db4b784e2c1ef675a600b7b5b281fd25240dcb954ee7e\n",
      "  Building wheel for tinysegmenter (setup.py): started\n",
      "  Building wheel for tinysegmenter (setup.py): finished with status 'done'\n",
      "  Created wheel for tinysegmenter: filename=tinysegmenter-0.4-py3-none-any.whl size=13538 sha256=e73ce707e8c89c7427c27d40fa1c8e84f65c52a07245bc4589bf96b04bc8f210\n",
      "  Stored in directory: c:\\users\\pavan\\appdata\\local\\pip\\cache\\wheels\\6d\\34\\16\\65ffea5f459d54732d4e5bd887eb6cff66d81cdda854edc2dd\n",
      "Successfully built jieba tinysegmenter\n",
      "Installing collected packages: tinysegmenter, jieba, dnspython, requests-toolbelt, pythainlp, gnews, cloudscraper\n",
      "Successfully installed cloudscraper-1.2.71 dnspython-1.16.0 gnews-0.3.7 jieba-0.42.1 pythainlp-5.0.4 requests-toolbelt-1.0.0 tinysegmenter-0.4\n"
     ]
    }
   ],
   "source": [
    "!pip install newspaper4k[all]"
   ]
  },
  {
   "cell_type": "code",
   "execution_count": 34,
   "id": "2ade96c5",
   "metadata": {},
   "outputs": [],
   "source": [
    "from newspaper import Article\n",
    "article = Article(r'https://timesofindia.indiatimes.com/sports/cricket/india-vs-pakistan-icc-world-cup-2023-live-score-updates-from-ahmedabad/liveblog/104414710.cms')\n",
    "#article = Article(r'https://www.aajtak.in/sports/cricket/story/india-vs-pakistan-live-score-asia-cup-2023-ind-vs-pak-super-four-match-latest-updates-virat-kohli-jasprit-bumrah-babar-azam-ravindra-jadeja-tspo-1776494-2023-09-11')\n",
    "#article = Article(r'https://www.andhrajyothy.com/2023/sports/cricket-news/world-cup-2023-india-won-the-toss-and-elected-bowl-first-vrv-1154319.html')\n"
   ]
  },
  {
   "cell_type": "code",
   "execution_count": 35,
   "id": "7448b2f6",
   "metadata": {},
   "outputs": [],
   "source": [
    "article.download()\n",
    "article.parse()\n",
    "article.nlp()"
   ]
  },
  {
   "cell_type": "code",
   "execution_count": 36,
   "id": "59e08271",
   "metadata": {},
   "outputs": [],
   "source": [
    "mytext = article.text\n",
    "language = 'en'\n",
    "#language = 'tel'\n",
    "#language = 'hi'"
   ]
  },
  {
   "cell_type": "code",
   "execution_count": 37,
   "id": "669e4180",
   "metadata": {},
   "outputs": [
    {
     "data": {
      "text/plain": [
       "0"
      ]
     },
     "execution_count": 37,
     "metadata": {},
     "output_type": "execute_result"
    }
   ],
   "source": [
    "myobj = gTTS(text = mytext, lang = language, slow=False)\n",
    "myobj.save(\"read_article2.mp3\")\n",
    "os.system(\"start read_article2.mp3\")"
   ]
  },
  {
   "cell_type": "code",
   "execution_count": null,
   "id": "38b4b82f",
   "metadata": {},
   "outputs": [],
   "source": []
  }
 ],
 "metadata": {
  "kernelspec": {
   "display_name": "Python 3 (ipykernel)",
   "language": "python",
   "name": "python3"
  },
  "language_info": {
   "codemirror_mode": {
    "name": "ipython",
    "version": 3
   },
   "file_extension": ".py",
   "mimetype": "text/x-python",
   "name": "python",
   "nbconvert_exporter": "python",
   "pygments_lexer": "ipython3",
   "version": "3.9.13"
  }
 },
 "nbformat": 4,
 "nbformat_minor": 5
}
